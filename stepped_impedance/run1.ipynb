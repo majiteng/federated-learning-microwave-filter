{
 "cells": [
  {
   "cell_type": "code",
   "execution_count": 1,
   "id": "b0fd7f7d-7368-4bdb-997c-ed0aca5e9a91",
   "metadata": {},
   "outputs": [
    {
     "name": "stdout",
     "output_type": "stream",
     "text": [
      "\n",
      "Experimental details:\n",
      "    Model     : mlp\n",
      "    Optimizer : adam\n",
      "    Learning  : 0.001\n",
      "    Global Rounds   : 2\n",
      "\n",
      "    Federated parameters:\n",
      "    Fraction of users  : 0.1\n",
      "    Local Batch size   : 100\n",
      "    Local Epochs       : 5\n",
      "\n",
      "PyTorch is running on GPU: NVIDIA GeForce RTX 2080 Ti\n",
      "Test model with the exampled 4th and 5th order filter\n"
     ]
    },
    {
     "name": "stderr",
     "output_type": "stream",
     "text": [
      "  0%|          | 0/2 [00:00<?, ?it/s]"
     ]
    },
    {
     "name": "stdout",
     "output_type": "stream",
     "text": [
      "| Global Round : 1 | Local Epoch : 1 | [0000/8000 (00.0%)]\tLoss: 1.059785\tR2: -0.002160\n",
      "[-0.0021596321068655354]\n",
      "| Global Round : 1 | Local Epoch : 2 | [0000/8000 (00.0%)]\tLoss: 0.028840\tR2: 0.967199\n",
      "[-0.0021596321068655354, 0.96719876286209]\n",
      "| Global Round : 1 | Local Epoch : 3 | [0000/8000 (00.0%)]\tLoss: 0.014695\tR2: 0.978836\n",
      "[-0.0021596321068655354, 0.96719876286209, 0.9788360552045672]\n",
      "| Global Round : 1 | Local Epoch : 4 | [0000/8000 (00.0%)]\tLoss: 0.016110\tR2: 0.986678\n",
      "[-0.0021596321068655354, 0.96719876286209, 0.9788360552045672, 0.9866783093433251]\n",
      "| Global Round : 1 | Local Epoch : 5 | [0000/8000 (00.0%)]\tLoss: 0.021483\tR2: 0.985545\n",
      "[-0.0021596321068655354, 0.96719876286209, 0.9788360552045672, 0.9866783093433251, 0.9855452166327455]\n",
      "| Global Round : 1 | Local Epoch : 1 | [0000/8000 (00.0%)]\tLoss: 0.834964\tR2: -0.017082\n",
      "[-0.017082370676461706]\n",
      "| Global Round : 1 | Local Epoch : 2 | [0000/8000 (00.0%)]\tLoss: 0.325048\tR2: 0.611085\n",
      "[-0.017082370676461706, 0.6110847350034142]\n",
      "| Global Round : 1 | Local Epoch : 3 | [0000/8000 (00.0%)]\tLoss: 0.351421\tR2: 0.657189\n",
      "[-0.017082370676461706, 0.6110847350034142, 0.6571890606564132]\n",
      "| Global Round : 1 | Local Epoch : 4 | [0000/8000 (00.0%)]\tLoss: 0.318013\tR2: 0.741700\n",
      "[-0.017082370676461706, 0.6110847350034142, 0.6571890606564132, 0.7416999147846646]\n",
      "| Global Round : 1 | Local Epoch : 5 | [0000/8000 (00.0%)]\tLoss: 0.214027\tR2: 0.811999\n",
      "[-0.017082370676461706, 0.6110847350034142, 0.6571890606564132, 0.7416999147846646, 0.8119988770384914]\n"
     ]
    },
    {
     "name": "stderr",
     "output_type": "stream",
     "text": [
      " 50%|█████     | 1/2 [00:54<00:54, 54.95s/it]"
     ]
    },
    {
     "name": "stdout",
     "output_type": "stream",
     "text": [
      "\n",
      "Round: 1, Loss: 0.179550, Train R2: 0.820808, Val R2: 0.409208, \n",
      "| Global Round : 2 | Local Epoch : 1 | [0000/8000 (00.0%)]\tLoss: 0.397357\tR2: 0.541020\n",
      "[0.541019781396537]\n",
      "| Global Round : 2 | Local Epoch : 2 | [0000/8000 (00.0%)]\tLoss: 0.015510\tR2: 0.985207\n",
      "[0.541019781396537, 0.9852072192709025]\n",
      "| Global Round : 2 | Local Epoch : 3 | [0000/8000 (00.0%)]\tLoss: 0.008780\tR2: 0.990723\n",
      "[0.541019781396537, 0.9852072192709025, 0.9907228794884586]\n",
      "| Global Round : 2 | Local Epoch : 4 | [0000/8000 (00.0%)]\tLoss: 0.007602\tR2: 0.989400\n",
      "[0.541019781396537, 0.9852072192709025, 0.9907228794884586, 0.9893997484565986]\n",
      "| Global Round : 2 | Local Epoch : 5 | [0000/8000 (00.0%)]\tLoss: 0.005861\tR2: 0.991542\n",
      "[0.541019781396537, 0.9852072192709025, 0.9907228794884586, 0.9893997484565986, 0.9915421081397218]\n",
      "| Global Round : 2 | Local Epoch : 1 | [0000/8000 (00.0%)]\tLoss: 0.517062\tR2: 0.363985\n",
      "[0.36398510466802636]\n",
      "| Global Round : 2 | Local Epoch : 2 | [0000/8000 (00.0%)]\tLoss: 0.383672\tR2: 0.631477\n",
      "[0.36398510466802636, 0.6314765597965598]\n",
      "| Global Round : 2 | Local Epoch : 3 | [0000/8000 (00.0%)]\tLoss: 0.190251\tR2: 0.784133\n",
      "[0.36398510466802636, 0.6314765597965598, 0.784133202066596]\n",
      "| Global Round : 2 | Local Epoch : 4 | [0000/8000 (00.0%)]\tLoss: 0.163299\tR2: 0.795963\n",
      "[0.36398510466802636, 0.6314765597965598, 0.784133202066596, 0.7959634427442189]\n",
      "| Global Round : 2 | Local Epoch : 5 | [0000/8000 (00.0%)]\tLoss: 0.154049\tR2: 0.807941\n",
      "[0.36398510466802636, 0.6314765597965598, 0.784133202066596, 0.7959634427442189, 0.8079405998586675]\n"
     ]
    },
    {
     "name": "stderr",
     "output_type": "stream",
     "text": [
      "100%|██████████| 2/2 [01:50<00:00, 55.25s/it]"
     ]
    },
    {
     "name": "stdout",
     "output_type": "stream",
     "text": [
      "\n",
      "Round: 2, Loss: 0.152609, Train R2: 0.873941, Val R2: 0.363970, \n",
      "\n",
      " Total Run Time: 112.6783\n"
     ]
    },
    {
     "name": "stderr",
     "output_type": "stream",
     "text": [
      "\n"
     ]
    }
   ],
   "source": [
    "%run main.py --ratio=0 --epochs=2 --local_ep=5 --lr=0.001 --SampleRate=0.8 --local_bs=100 --test_unexampled=0"
   ]
  },
  {
   "cell_type": "code",
   "execution_count": null,
   "id": "4cbaae08-9ed9-4d32-ad81-6cf94b190614",
   "metadata": {},
   "outputs": [],
   "source": []
  },
  {
   "cell_type": "code",
   "execution_count": null,
   "id": "a3a49b91-0442-4a6a-a262-7db4161d9d98",
   "metadata": {},
   "outputs": [],
   "source": []
  }
 ],
 "metadata": {
  "kernelspec": {
   "display_name": "Python 3",
   "language": "python",
   "name": "python3"
  },
  "language_info": {
   "codemirror_mode": {
    "name": "ipython",
    "version": 3
   },
   "file_extension": ".py",
   "mimetype": "text/x-python",
   "name": "python",
   "nbconvert_exporter": "python",
   "pygments_lexer": "ipython3",
   "version": "3.8.11"
  }
 },
 "nbformat": 4,
 "nbformat_minor": 5
}
